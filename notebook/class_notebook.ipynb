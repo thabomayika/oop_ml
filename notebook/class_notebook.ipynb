{
 "cells": [
  {
   "cell_type": "code",
   "execution_count": 1,
   "metadata": {},
   "outputs": [],
   "source": [
    "# importing needed modules\n",
    "from sklearn.metrics import mean_squared_error as MSE\n",
    "import numpy as np\n",
    "import matplotlib.pyplot as plt\n",
    "import seaborn as sns\n",
    "import pandas as pd"
   ]
  },
  {
   "cell_type": "markdown",
   "metadata": {},
   "source": [
    "### OOP FOR MLR\n",
    "This notebook will illustrate how the funtions or classes will perform their objectives by calculating errors and plotting graphs.   "
   ]
  },
  {
   "cell_type": "code",
   "execution_count": 2,
   "metadata": {},
   "outputs": [],
   "source": [
    "class ErrorCalculator:\n",
    "\n",
    "    def __init__(self, y, y_pred):\n",
    "        self.y_pred = np.array(y_pred)\n",
    "        self.y = np.array(y)\n",
    "    def check_size(self, y, y_pred):\n",
    "        if len(self.y)== len(self.y_pred):\n",
    "            return True\n",
    "        else:\n",
    "            raise ValueError(f'damn bro. size {self.y} and {self.y_pred}')     \n",
    "        \n",
    "    def get_residuals(self):\n",
    "        return self.y - self.y_pred\n",
    "\n",
    "    def get_standardised_residuals(self):\n",
    "        self.stand_res = (self.y - self.y_pred) / (self.y_pred)**(0.5)\n",
    "        return self.stand_res\n",
    "\n",
    "    def get_mse(self):\n",
    "        self.mse = MSE(self.y, self.y_pred)\n",
    "        return self.mse  \n",
    "\n",
    "    def get_rmse(self):\n",
    "        self.rmse = MSE(self.y, self.y_pred)**(0.5)\n",
    "        return self.rmse\n",
    "\n",
    "    def error_summary(self):\n",
    "        stand_resid_min = min(self.get_standardised_residuals())\n",
    "        stand_resid_max = max(self.get_standardised_residuals())\n",
    "        rmse = (self.get_rmse())\n",
    "        mse = (self.get_mse())\n",
    "        print(f'standard residual min: {stand_resid_min}')\n",
    "        print(f'standard residual max: {stand_resid_max}')\n",
    "        print(f'rmse: {rmse}')\n",
    "        print(f'mse: {mse}')"
   ]
  },
  {
   "cell_type": "code",
   "execution_count": 3,
   "metadata": {},
   "outputs": [
    {
     "data": {
      "text/plain": [
       "array([ 3, 30,  4])"
      ]
     },
     "execution_count": 3,
     "metadata": {},
     "output_type": "execute_result"
    }
   ],
   "source": [
    "o = [7,50,13]\n",
    "p = [4,20,9]\n",
    "ec = ErrorCalculator(o, p)\n",
    "ec.get_residuals()"
   ]
  },
  {
   "cell_type": "code",
   "execution_count": 4,
   "metadata": {},
   "outputs": [
    {
     "data": {
      "text/plain": [
       "array([1.5       , 6.70820393, 1.33333333])"
      ]
     },
     "execution_count": 4,
     "metadata": {},
     "output_type": "execute_result"
    }
   ],
   "source": [
    "ec.get_standardised_residuals()"
   ]
  },
  {
   "cell_type": "code",
   "execution_count": 5,
   "metadata": {},
   "outputs": [
    {
     "name": "stdout",
     "output_type": "stream",
     "text": [
      "mse: 308.33\n"
     ]
    }
   ],
   "source": [
    "print(f'mse: {round(ec.get_mse(), 2)}')"
   ]
  },
  {
   "cell_type": "code",
   "execution_count": 6,
   "metadata": {},
   "outputs": [
    {
     "name": "stdout",
     "output_type": "stream",
     "text": [
      "rmse: 17.56\n"
     ]
    }
   ],
   "source": [
    "print(f'rmse: {round(ec.get_rmse(), 2)}')"
   ]
  },
  {
   "cell_type": "code",
   "execution_count": 7,
   "metadata": {},
   "outputs": [
    {
     "name": "stdout",
     "output_type": "stream",
     "text": [
      "standard residual min: 1.3333333333333333\n",
      "standard residual max: 6.7082039324993685\n",
      "rmse: 17.55942292142123\n",
      "mse: 308.3333333333333\n"
     ]
    }
   ],
   "source": [
    "ec.error_summary()"
   ]
  },
  {
   "cell_type": "code",
   "execution_count": 8,
   "metadata": {},
   "outputs": [],
   "source": [
    "class Plotter:\n",
    "    def __init__(self, y, y_pred, resid=None):\n",
    "        self.resid = resid\n",
    "        self.y = y\n",
    "        self.y_pred = y_pred\n",
    "\n",
    "    def run_calculations(self):\n",
    "        resids = np.array(self.y) - np.array(self.y_pred)\n",
    "        return resids\n",
    "\n",
    "    def plot(self):\n",
    "        if self.resid is None:\n",
    "            self.run_calculations()\n",
    "        sns.set()    \n",
    "        plt.hist(self.run_calculations())\n",
    "        plt.title('Distribution of residuals')\n",
    "        plt.xlabel('Residuals')\n",
    "        plt.ylabel('Distribution')"
   ]
  },
  {
   "cell_type": "code",
   "execution_count": 9,
   "metadata": {},
   "outputs": [
    {
     "data": {
      "image/png": "[encoded data removed]",
      "text/plain": [
       "<Figure size 432x288 with 1 Axes>"
      ]
     },
     "metadata": {},
     "output_type": "display_data"
    }
   ],
   "source": [
    "plot = Plotter(o, p)\n",
    "plot.plot()"
   ]
  },
  {
   "cell_type": "code",
   "execution_count": 10,
   "metadata": {},
   "outputs": [],
   "source": [
    "class HistogramPlotter(Plotter):\n",
    "    def __init__(self, y, y_pred):\n",
    "        super().__init__(y, y_pred)"
   ]
  },
  {
   "cell_type": "code",
   "execution_count": 11,
   "metadata": {},
   "outputs": [
    {
     "data": {
      "image/png": "[encoded data removed]",
      "text/plain": [
       "<Figure size 432x288 with 1 Axes>"
      ]
     },
     "metadata": {},
     "output_type": "display_data"
    }
   ],
   "source": [
    "hp = HistogramPlotter(o, p)\n",
    "hp.plot()"
   ]
  },
  {
   "cell_type": "code",
   "execution_count": 12,
   "metadata": {},
   "outputs": [],
   "source": [
    "class ScatterPlotter(Plotter):\n",
    "    def __init__(self, y, y_pred):\n",
    "        super().__init__(y, y_pred)\n",
    "\n",
    "    def scatter(self):\n",
    "        pt = pd.DataFrame({\"y_test\": self.y, \"y_pred\": self.y_pred})\n",
    "        pt.plot.scatter(x='y_test', y='y_pred')\n",
    "        plt.xlabel('Observed values')\n",
    "        plt.ylabel('predicted values')\n",
    "        plt.title('Observed values vs predicted values')"
   ]
  },
  {
   "cell_type": "code",
   "execution_count": 13,
   "metadata": {},
   "outputs": [
    {
     "data": {
      "image/png": "[encoded data removed]",
      "text/plain": [
       "<Figure size 432x288 with 1 Axes>"
      ]
     },
     "metadata": {},
     "output_type": "display_data"
    }
   ],
   "source": [
    "sp = ScatterPlotter(o, p)\n",
    "sp.scatter()"
   ]
  },
  {
   "cell_type": "code",
   "execution_count": null,
   "metadata": {},
   "outputs": [],
   "source": []
  }
 ],
 "metadata": {
  "kernelspec": {
   "display_name": "Python 3",
   "language": "python",
   "name": "python3"
  },
  "language_info": {
   "codemirror_mode": {
    "name": "ipython",
    "version": 3
   },
   "file_extension": ".py",
   "mimetype": "text/x-python",
   "name": "python",
   "nbconvert_exporter": "python",
   "pygments_lexer": "ipython3",
   "version": "3.6.9"
  }
 },
 "nbformat": 4,
 "nbformat_minor": 4
}
